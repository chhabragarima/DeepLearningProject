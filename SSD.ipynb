{
 "cells": [
  {
   "cell_type": "code",
   "execution_count": 6,
   "metadata": {},
   "outputs": [
    {
     "name": "stdout",
     "output_type": "stream",
     "text": [
      "The history saving thread hit an unexpected error (OperationalError('disk I/O error',)).History will not be written to the database.\n"
     ]
    }
   ],
   "source": [
    "import math\n",
    "import itertools\n",
    "\n",
    "import torch\n",
    "import torch.nn as nn\n",
    "import torch.nn.functional as F\n",
    "import torch.nn.init as init\n",
    "\n",
    "from torch.autograd import Variable\n",
    "from ipynb.fs.full.multibox_layer import *\n",
    "#from multibox_layer import MultiBoxLayer"
   ]
  },
  {
   "cell_type": "code",
   "execution_count": 7,
   "metadata": {},
   "outputs": [],
   "source": [
    "class L2Norm(nn.Module):\n",
    "    '''L2Norm layer across all channels and scale.'''\n",
    "    def __init__(self, in_features,scale):\n",
    "        super(L2Norm, self).__init__()\n",
    "        self.weight = nn.Parameter(torch.Tensor(in_features))\n",
    "        self.reset_parameters(scale)\n",
    "\n",
    "    def reset_parameters(self, scale):\n",
    "        nn.init.constant_(self.weight, scale)\n",
    "\n",
    "    def forward(self, x):\n",
    "        x = F.normalize(x, dim=1)\n",
    "        scale = self.weight[None,:,None,None]\n",
    "        return scale * x"
   ]
  },
  {
   "cell_type": "code",
   "execution_count": 9,
   "metadata": {},
   "outputs": [],
   "source": [
    "class SSD300(nn.Module):\n",
    "    input_size = 300\n",
    "\n",
    "    def __init__(self):\n",
    "        super(SSD300, self).__init__()\n",
    "        \n",
    "        # model\n",
    "        self.base = self.VGG16()\n",
    "        self.norm4 = L2Norm(512, 20) # 38\n",
    "\n",
    "        self.conv5_1 = nn.Conv2d(512, 512, kernel_size=3, padding=1, dilation=1)\n",
    "        self.conv5_2 = nn.Conv2d(512, 512, kernel_size=3, padding=1, dilation=1)\n",
    "        self.conv5_3 = nn.Conv2d(512, 512, kernel_size=3, padding=1, dilation=1)\n",
    "\n",
    "        self.conv6 = nn.Conv2d(512, 1024, kernel_size=3, padding=6, dilation=6)\n",
    "\n",
    "        self.conv7 = nn.Conv2d(1024, 1024, kernel_size=1) \n",
    "\n",
    "        self.conv8_1 = nn.Conv2d(1024, 256, kernel_size=1)\n",
    "        self.conv8_2 = nn.Conv2d(256, 512, kernel_size=3, padding=1, stride=2)\n",
    "\n",
    "        self.conv9_1 = nn.Conv2d(512, 128, kernel_size=1)\n",
    "        self.conv9_2 = nn.Conv2d(128, 256, kernel_size=3, padding=1, stride=2)\n",
    "\n",
    "        self.conv10_1 = nn.Conv2d(256, 128, kernel_size=1)\n",
    "        self.conv10_2 = nn.Conv2d(128, 256, kernel_size=3)\n",
    "\n",
    "        self.conv11_1 = nn.Conv2d(256, 128, kernel_size=1)\n",
    "        self.conv11_2 = nn.Conv2d(128, 256, kernel_size=3)\n",
    "\n",
    "        # multibox layer\n",
    "        self.multibox = MultiBoxLayer()\n",
    "\n",
    "    def forward(self, x):\n",
    "        hs = []\n",
    "\n",
    "        h = self.base(x)\n",
    "        hs.append(self.norm4(h))  # conv4_3\n",
    "        h = F.max_pool2d(h, kernel_size=2, stride=2, ceil_mode=True)\n",
    "\n",
    "        h = F.relu(self.conv5_1(h))\n",
    "        h = F.relu(self.conv5_2(h))\n",
    "        h = F.relu(self.conv5_3(h))\n",
    "        h = F.max_pool2d(h, kernel_size=3, padding=1, stride=1, ceil_mode=True)\n",
    "        \n",
    "        h = F.relu(self.conv6(h))\n",
    "        h = F.relu(self.conv7(h))\n",
    "        hs.append(h)  # conv7\n",
    "        h = F.relu(self.conv8_1(h))\n",
    "        h = F.relu(self.conv8_2(h))\n",
    "        hs.append(h)  # conv8_2\n",
    "        h = F.relu(self.conv9_1(h))\n",
    "        h = F.relu(self.conv9_2(h))\n",
    "        hs.append(h)  # conv9_2\n",
    "        h = F.relu(self.conv10_1(h))\n",
    "        h = F.relu(self.conv10_2(h))\n",
    "        hs.append(h)  # conv10_2\n",
    "        h = F.relu(self.conv11_1(h))\n",
    "        h = F.relu(self.conv11_2(h))\n",
    "        hs.append(h)  # conv11_2\n",
    "        loc_preds, conf_preds = self.multibox(hs)\n",
    " \n",
    "        return loc_preds, conf_preds\n",
    "\n",
    "    def VGG16(self):\n",
    "        '''VGG16 layers.'''\n",
    "        cfg = [64, 64, 'M', 128, 128, 'M', 256, 256, 256, 'M', 512, 512, 512]\n",
    "        layers = []\n",
    "        in_channels = 3\n",
    "        for x in cfg:\n",
    "            if x == 'M':\n",
    "                layers += [nn.MaxPool2d(kernel_size=2, stride=2, ceil_mode=True)]\n",
    "            else:\n",
    "                layers += [nn.Conv2d(in_channels, x, kernel_size=3, padding=1),\n",
    "                           nn.ReLU(True)]\n",
    "                in_channels = x\n",
    "        return nn.Sequential(*layers)"
   ]
  }
 ],
 "metadata": {
  "kernelspec": {
   "display_name": "env_dir",
   "language": "python",
   "name": "env_dir"
  },
  "language_info": {
   "codemirror_mode": {
    "name": "ipython",
    "version": 3
   },
   "file_extension": ".py",
   "mimetype": "text/x-python",
   "name": "python",
   "nbconvert_exporter": "python",
   "pygments_lexer": "ipython3",
   "version": "3.6.5"
  }
 },
 "nbformat": 4,
 "nbformat_minor": 2
}
