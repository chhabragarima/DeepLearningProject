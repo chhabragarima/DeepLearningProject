{
 "cells": [
  {
   "cell_type": "code",
   "execution_count": 1,
   "metadata": {},
   "outputs": [],
   "source": [
    "import math\n",
    "\n",
    "import torch\n",
    "import torch.nn as nn\n",
    "import torch.nn.init as init\n",
    "import torch.nn.functional as F"
   ]
  },
  {
   "cell_type": "code",
   "execution_count": 2,
   "metadata": {},
   "outputs": [],
   "source": [
    "class MultiBoxLayer(nn.Module):\n",
    "    num_classes = 21\n",
    "    num_anchors = [4,6,6,6,4,4]\n",
    "    in_planes = [512,1024,512,256,256,256]\n",
    "\n",
    "    def __init__(self):\n",
    "        super(MultiBoxLayer, self).__init__()\n",
    "\n",
    "        self.loc_layers = nn.ModuleList()\n",
    "        self.conf_layers = nn.ModuleList()\n",
    "        for i in range(len(self.in_planes)):\n",
    "        \tself.loc_layers.append(nn.Conv2d(self.in_planes[i], self.num_anchors[i]*4, kernel_size=3, padding=1))\n",
    "        \tself.conf_layers.append(nn.Conv2d(self.in_planes[i], self.num_anchors[i]*21, kernel_size=3, padding=1))\n",
    "\n",
    "    def forward(self, xs):\n",
    "        y_locs = []\n",
    "        y_confs = []\n",
    "        for i, x in enumerate(xs):\n",
    "            y_loc = self.loc_layers[i](x)\n",
    "            N = y_loc.size(0)\n",
    "            y_loc = y_loc.permute(0,2,3,1).contiguous()\n",
    "            y_loc = y_loc.view(N,-1,4)\n",
    "            y_locs.append(y_loc)\n",
    "\n",
    "            y_conf = self.conf_layers[i](x)\n",
    "            y_conf = y_conf.permute(0,2,3,1).contiguous()\n",
    "            y_conf = y_conf.view(N,-1,21)\n",
    "            y_confs.append(y_conf)\n",
    "\n",
    "        loc_preds = torch.cat(y_locs, 1)\n",
    "        conf_preds = torch.cat(y_confs, 1)\n",
    "        return loc_preds, conf_preds"
   ]
  }
 ],
 "metadata": {
  "kernelspec": {
   "display_name": "env_dir",
   "language": "python",
   "name": "env_dir"
  },
  "language_info": {
   "codemirror_mode": {
    "name": "ipython",
    "version": 3
   },
   "file_extension": ".py",
   "mimetype": "text/x-python",
   "name": "python",
   "nbconvert_exporter": "python",
   "pygments_lexer": "ipython3",
   "version": "3.6.5"
  }
 },
 "nbformat": 4,
 "nbformat_minor": 2
}
